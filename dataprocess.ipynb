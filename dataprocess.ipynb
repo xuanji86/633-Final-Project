{
 "cells": [
  {
   "cell_type": "code",
   "execution_count": 1,
   "metadata": {},
   "outputs": [
    {
     "name": "stdout",
     "output_type": "stream",
     "text": [
      "Preprocessed data saved as 'preprocessed_train.csv' and 'preprocessed_test.csv'\n"
     ]
    }
   ],
   "source": [
    "import pandas as pd\n",
    "import numpy as np\n",
    "from scipy.signal import convolve\n",
    "from sklearn.preprocessing import StandardScaler, OneHotEncoder\n",
    "\n",
    "# Step 1: Load datasets\n",
    "label_train = pd.read_csv('633FinalData/label_train.csv')\n",
    "label_test_breakfast_only = pd.read_csv('633FinalData/label_test_breakfast_only.csv')\n",
    "img_train = pd.read_csv('633FinalData/img_train.csv')\n",
    "img_test = pd.read_csv('633FinalData/img_test.csv')\n",
    "demo_viome_train = pd.read_csv('633FinalData/demo_viome_train.csv')\n",
    "demo_viome_test = pd.read_csv('633FinalData/demo_viome_test.csv')\n",
    "cgm_train = pd.read_csv('633FinalData/cgm_train.csv')\n",
    "cgm_test = pd.read_csv('633FinalData/cgm_test.csv')\n",
    "\n",
    "# Step 2: Merge datasets based on Subject ID and Day\n",
    "merged_train = (\n",
    "    cgm_train\n",
    "    .merge(label_train, on=[\"Subject ID\", \"Day\"], how=\"inner\")\n",
    "    .merge(demo_viome_train, on=[\"Subject ID\"], how=\"inner\")\n",
    ")\n",
    "merged_test = (\n",
    "    cgm_test\n",
    "    .merge(label_test_breakfast_only, on=[\"Subject ID\", \"Day\"], how=\"inner\")\n",
    "    .merge(demo_viome_test, on=[\"Subject ID\"], how=\"inner\")\n",
    ")\n",
    "\n",
    "# Step 3: Handle missing values\n",
    "merged_train = merged_train.fillna(method='ffill').fillna(method='bfill')\n",
    "merged_test = merged_test.fillna(method='ffill').fillna(method='bfill')\n",
    "\n",
    "# Step 4: Standardize numerical data and encode categorical variables\n",
    "scaler = StandardScaler()\n",
    "merged_train[['Age', 'Weight', 'Height', 'BMI']] = scaler.fit_transform(\n",
    "    merged_train[['Age', 'Weight', 'Height', 'BMI']]\n",
    ")\n",
    "merged_test[['Age', 'Weight', 'Height', 'BMI']] = scaler.transform(\n",
    "    merged_test[['Age', 'Weight', 'Height', 'BMI']]\n",
    ")\n",
    "\n",
    "encoder = OneHotEncoder(sparse_output=False, handle_unknown='ignore')  # Changed `sparse` to `sparse_output`\n",
    "encoded_train = encoder.fit_transform(merged_train[['Gender', 'Race']])\n",
    "encoded_test = encoder.transform(merged_test[['Gender', 'Race']])\n",
    "\n",
    "encoded_train_df = pd.DataFrame(\n",
    "    encoded_train, columns=encoder.get_feature_names_out(['Gender', 'Race'])\n",
    ")\n",
    "encoded_test_df = pd.DataFrame(\n",
    "    encoded_test, columns=encoder.get_feature_names_out(['Gender', 'Race'])\n",
    ")\n",
    "\n",
    "merged_train = pd.concat([merged_train.reset_index(drop=True), encoded_train_df], axis=1)\n",
    "merged_test = pd.concat([merged_test.reset_index(drop=True), encoded_test_df], axis=1)\n",
    "\n",
    "# Step 5: Save preprocessed data\n",
    "merged_train.to_csv('preprocessed_train.csv', index=False)\n",
    "merged_test.to_csv('preprocessed_test.csv', index=False)\n",
    "\n",
    "print(\"Preprocessed data saved as 'preprocessed_train.csv' and 'preprocessed_test.csv'\")"
   ]
  }
 ],
 "metadata": {
  "kernelspec": {
   "display_name": "Python 3",
   "language": "python",
   "name": "python3"
  },
  "language_info": {
   "codemirror_mode": {
    "name": "ipython",
    "version": 3
   },
   "file_extension": ".py",
   "mimetype": "text/x-python",
   "name": "python",
   "nbconvert_exporter": "python",
   "pygments_lexer": "ipython3",
   "version": "3.9.6"
  }
 },
 "nbformat": 4,
 "nbformat_minor": 2
}
