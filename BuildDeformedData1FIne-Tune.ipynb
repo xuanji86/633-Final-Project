{
 "cells": [
  {
   "cell_type": "code",
   "execution_count": 6,
   "id": "743fb5ad",
   "metadata": {
    "id": "743fb5ad"
   },
   "outputs": [],
   "source": [
    "import os\n",
    "import numpy as np\n",
    "import scipy\n",
    "from scipy.interpolate import griddata\n",
    "from scipy.ndimage import gaussian_filter\n",
    "from tqdm import tqdm\n",
    "import skfmm\n",
    "from PIL import Image\n",
    "import matplotlib.pyplot as plt\n",
    "from skimage import color\n",
    "from skimage import io\n",
    "import cv2\n",
    "import imageio.v3 as iio\n",
    "from scipy.io import loadmat\n",
    "import time"
   ]
  },
  {
   "cell_type": "code",
   "execution_count": 7,
   "id": "940addb5",
   "metadata": {
    "id": "940addb5"
   },
   "outputs": [],
   "source": [
    "def ffd_lattice(base_xy, m, n):\n",
    "\n",
    "    x_min = np.min(base_xy[:,0])\n",
    "    x_max = np.max(base_xy[:,0])\n",
    "    y_min = np.min(base_xy[:,1])\n",
    "    y_max = np.max(base_xy[:,1])\n",
    "\n",
    "    x = np.linspace(x_min, x_max, m)\n",
    "    y = np.linspace(y_min, y_max, n)\n",
    "    xx, yy = np.meshgrid(x, y, indexing='ij')\n",
    "    P = np.stack((xx, yy), axis=-1)\n",
    "\n",
    "    u = (base_xy[:,0]-x_min)/(x_max-x_min)\n",
    "    v = (base_xy[:,1]-y_min)/(y_max-y_min)\n",
    "\n",
    "    return P, u, v\n"
   ]
  },
  {
   "cell_type": "code",
   "execution_count": 8,
   "id": "ff3e6ea9",
   "metadata": {
    "id": "ff3e6ea9"
   },
   "outputs": [],
   "source": [
    "def bernstein(xx, m, i):\n",
    "    b = scipy.special.binom(m, i) * xx**i * (1-xx)**(m-i)\n",
    "    return b\n",
    "\n",
    "def deform(im, scale=20):\n",
    "    rez = im.shape[0]\n",
    "    xx, yy = np.mgrid[:rez, :rez]\n",
    "    base_xy = np.stack((xx, yy), axis=-1).reshape(-1,2)\n",
    "    m, n = rez, rez\n",
    "    P, u, v = ffd_lattice(base_xy, m, n)\n",
    "    # Deform grid points by perturbing control points\n",
    "    P_ = P + np.random.normal(scale=scale, size=P.shape)\n",
    "    # # Apply sudden change to one point\n",
    "    # i = np.random.choice(P.shape[0])\n",
    "    # j = np.random.choice(P.shape[1])\n",
    "    # P_[i,j] = P_[i,j] + np.random.normal(scale=10*scale, size=2)\n",
    "    new_xy = np.zeros_like(base_xy, dtype=np.float64)\n",
    "    for i in range(m):\n",
    "        for j in range(n):\n",
    "            new_xy += bernstein(u, m-1, i).reshape(-1,1) * \\\n",
    "                      bernstein(v, n-1, j).reshape(-1,1) * P_[j,i].reshape(1,2)\n",
    "    # Interpolate a new image from deformed grid points\n",
    "    new_im = griddata(new_xy, im.flatten(), (xx, yy), method='nearest')\n",
    "    # # Apply Gaussian filter\n",
    "    # new_im = gaussian_filter(new_im, sigma=rez/32)\n",
    "    return new_im.T\n",
    "\n",
    "def nucleate_hole(im, padding=8):\n",
    "    I = (im > 0) # indicator function\n",
    "    ci = np.random.randint(padding, rez-padding)\n",
    "    cj = np.random.randint(padding, rez-padding)\n",
    "    if I[ci, cj]:\n",
    "        mean = [ci, cj]\n",
    "        sii = np.random.normal(2, 0.1)**2\n",
    "        sjj = np.random.normal(2, 0.1)**2\n",
    "        sij_low = -(sii*sjj)**.5 + 1e-7\n",
    "        sij_high = (sii*sjj)**.5 - 1e-7\n",
    "        sij = np.maximum(np.minimum(np.random.normal(0, 1), sij_high), sij_low) # ensures positive semi-definiteness\n",
    "        cov = np.array([[sii, sij],\n",
    "                        [sij, sjj]])\n",
    "        ii = np.linspace(0, rez-1, rez)\n",
    "        jj = np.linspace(0, rez-1, rez)\n",
    "        iv, jv = np.meshgrid(ii, jj, indexing='ij')\n",
    "        coords = np.stack((iv, jv), axis=-1).reshape(-1,2)\n",
    "        p = np.zeros(coords.shape[0])\n",
    "        scale = np.random.uniform(0, 2)#Hole Size second digit\n",
    "        for i, coord in enumerate(coords):\n",
    "            p[i] = (im[ci, cj]+scale) * np.exp(-0.5 * (coord-mean) @ np.linalg.inv(cov) @ np.transpose(coord-mean))\n",
    "        new_im = im - p.reshape(rez, rez)\n",
    "        # height = 80\n",
    "        # rho = np.random.uniform()\n",
    "        # z = ((iv-mean[0])/cov[0,0])**2 + ((jv-mean[1])/cov[1,1])**2 \\\n",
    "        #     - 2 * rho * np.multiply( (iv-mean[0]),  (jv-mean[1]) ) / ( cov[0,0]*cov[1,1] )\n",
    "        # p = height *im[ci, cj] * 1/(2*np.pi*cov[0,0]*cov[1,1]*np.sqrt(1-rho**2))*np.exp( - z/(2*(1-rho**2)))\n",
    "        # new_im = im - p\n",
    "        plt.figure()\n",
    "        plt.imshow(new_im>0)\n",
    "        plt.colorbar()\n",
    "        plt.title(cov)\n",
    "        plt.savefig('1.png')\n",
    "        plt.close()\n",
    "    else:\n",
    "        new_im = im\n",
    "    return new_im\n"
   ]
  },
  {
   "cell_type": "code",
   "execution_count": 9,
   "id": "b35cf5ee",
   "metadata": {
    "id": "b35cf5ee"
   },
   "outputs": [],
   "source": [
    "data_dir = 'data'\n",
    "# nominal_data_raw = np.load('/home/grads/c/calzheng/Downloads/data/Auxetic.png'.format(data_dir))\n",
    "#nominal_data_raw = iio.imread('/home/grads/c/calzheng/Downloads/data/Auxetic.png')\n",
    "nominal_data_raw = loadmat(r'/Users/calzheng/Desktop/Data/Geometries.mat')\n",
    "nominal_data_raw = nominal_data_raw['Geometries']\n",
    "indices = np.arange(0, nominal_data_raw.shape[2], 1)\n",
    "# nominal_data_raw = nominal_data_raw[:,:,indices]\n",
    "\n",
    "\n",
    "\n",
    "\n",
    "# nominal_data_raw = cv2.resize(nominal_data_raw, (64, 64))\n",
    "# # nominal_data_raw = nominal_data_raw.reshape((-1, 64, 64))\n",
    "# nominal_data_raw = np.transpose(nominal_data_raw,(2,0,1))\n",
    "# nominal_npy_path =  nominal_data_raw\n",
    "\n",
    "\n",
    "\n",
    "indices = np.load('rand_indices.npy')\n",
    "# selected_slices = selected_slices[:,:,rand_indices]\n",
    "# Preallocate an array for the resized slices\n",
    "selected_slices = nominal_data_raw[:,:,indices]\n",
    "\n",
    "selected_slices = selected_slices[:,:,150:200]\n",
    "resized_slices = np.empty((selected_slices.shape[2], 64, 64), dtype=selected_slices.dtype)\n",
    "\n",
    "# Resize each selected slice\n",
    "for i in range(selected_slices.shape[2]):\n",
    "    slice = selected_slices[:,:,i]\n",
    "    resized_slices[i,:,:] = cv2.resize(slice, (64, 64))\n",
    "\n",
    "# If needed, transpose to adjust shape, depending on your subsequent use-case\n",
    "nominal_data_raw = resized_slices\n",
    "nominal_data_raw1 = resized_slices\n",
    "# nominal_data_raw = nominal_data_raw[:5]\n",
    "deformed_npy_path = '/Users/calzheng/Desktop/Data/150_200_300_GeoDeformed(DF5,H2).npy'.format(data_dir)\n",
    "# nominal_data_raw=nominal_data_raw[9:10]\n",
    "# n_nominal = nominal_data_raw.shape[0]"
   ]
  },
  {
   "cell_type": "code",
   "execution_count": 10,
   "id": "83884091",
   "metadata": {
    "id": "83884091",
    "outputId": "d657768b-2a23-4c95-cfe0-d4090ad3977b",
    "scrolled": true
   },
   "outputs": [
    {
     "data": {
      "text/plain": [
       "<matplotlib.image.AxesImage at 0x326c901d0>"
      ]
     },
     "execution_count": 10,
     "metadata": {},
     "output_type": "execute_result"
    },
    {
     "data": {
      "image/png": "[encoded data removed]",
      "text/plain": [
       "<Figure size 640x480 with 1 Axes>"
      ]
     },
     "metadata": {},
     "output_type": "display_data"
    }
   ],
   "source": [
    "plt.imshow(nominal_data_raw[40,:, :])\n"
   ]
  },
  {
   "cell_type": "code",
   "execution_count": 11,
   "id": "cb132236-3c6c-41c4-9c38-7737e61dfbcf",
   "metadata": {
    "id": "cb132236-3c6c-41c4-9c38-7737e61dfbcf",
    "outputId": "22f40b4c-f62f-4468-e49e-1735da0657e4"
   },
   "outputs": [
    {
     "data": {
      "text/plain": [
       "0"
      ]
     },
     "execution_count": 11,
     "metadata": {},
     "output_type": "execute_result"
    }
   ],
   "source": [
    "np.min(nominal_data_raw[0, :, :])"
   ]
  },
  {
   "cell_type": "code",
   "execution_count": 12,
   "id": "9184f2a9",
   "metadata": {
    "id": "9184f2a9"
   },
   "outputs": [],
   "source": [
    " n_nominal = nominal_data_raw.shape[0]\n",
    "\n",
    "#nominal_data_raw = nominal_data_raw[]\n",
    "#nominal_data_raw"
   ]
  },
  {
   "cell_type": "code",
   "execution_count": 13,
   "id": "9ce32ae5",
   "metadata": {
    "id": "9ce32ae5",
    "outputId": "d19416b9-5ff5-4876-d579-46ce163ca10f",
    "scrolled": true
   },
   "outputs": [
    {
     "name": "stderr",
     "output_type": "stream",
     "text": [
      "100%|██████████| 50/50 [2:39:45<00:00, 191.71s/it]  \n"
     ]
    }
   ],
   "source": [
    "\n",
    "if not os.path.exists(deformed_npy_path):\n",
    "        rez = nominal_data_raw.shape[1]\n",
    "        nominal_data_raw = nominal_data_raw / (rez/2)\n",
    "        n_variants_per_nominal = 300\n",
    "        deform_scale = rez/5\n",
    "\n",
    "        # fig_dir = '{}/figures'.format(data_dir)\n",
    "        # create_dir(fig_dir)\n",
    "\n",
    "        deformed_data_raw = np.zeros((n_nominal, n_variants_per_nominal, rez, rez))\n",
    "\n",
    "        for i in tqdm(range(n_nominal)):\n",
    "\n",
    "            nominal_shape = nominal_data_raw[i]\n",
    "            # plot_image(nominal_shape, '{}/{}.png'.format(fig_dir, i))\n",
    "\n",
    "            for j in range(n_variants_per_nominal):\n",
    "                # start_time = time.time()\n",
    "                deformed_shape = deform(nominal_shape, scale=deform_scale)\n",
    "                # end_time1 = time.time()\n",
    "#                 deformed_data_raw[i,j] = deformed_shape\n",
    "                deformed_data_raw[i,j] = nucleate_hole(deformed_shape)\n",
    "                # end_time2 = time.time()\n",
    "                # print(end_time1 - start_time, end_time2 - end_time1)\n",
    "                # plt.figure()\n",
    "                # plt.imshow(deformed_data_raw[i,j]>0)\n",
    "                # plt.savefig('{}/{}_{}.png'.format(fig_dir, i, j))\n",
    "                # plt.close()\n",
    "\n",
    "        # # Convert shapes to SDF\n",
    "        # nominal_data_raw = (nominal_data_raw > 0) * 2. - 1.\n",
    "        # deformed_data_raw = (deformed_data_raw > 0) * 2. - 1.\n",
    "        # nominal_data = np.zeros((nominal_data_raw.shape[0], rez, rez))\n",
    "        # deformed_data = np.zeros(deformed_data_raw.shape[:2]+(rez, rez))\n",
    "        # for i, design in tqdm(enumerate(nominal_data_raw)):\n",
    "        #     arr = skfmm.distance(design)\n",
    "        #     nominal_data[i] = np.array(Image.fromarray(arr).resize((rez, rez)))\n",
    "        # for i, designs in tqdm(enumerate(deformed_data_raw)):\n",
    "        #     for j, design in enumerate(designs):\n",
    "        #         arr = skfmm.distance(design)\n",
    "        #         deformed_data[i,j] = np.array(Image.fromarray(arr).resize((rez, rez)))\n",
    "        # nominal_data /= np.abs(nominal_data).max()\n",
    "        # deformed_data /= np.abs(deformed_data).max()\n",
    "        # deformed_data1 = skfmm.distance(deformed_data)\n",
    "\n",
    "        # if np.max(deformed_data1)>abs(np.min(deformed_data1)):\n",
    "        #     limit = np.max(deformed_data1)\n",
    "        # else:\n",
    "        #     limit = abs(np.min(deformed_data1))\n",
    "\n",
    "\n",
    "\n",
    "        # deformed_data1 = deformed_data1/limit\n",
    "\n",
    "        # np.save(nominal_npy_path, nominal_data)\n",
    "        # np.save(deformed_npy_path, deformed_data1)"
   ]
  },
  {
   "cell_type": "code",
   "execution_count": 14,
   "id": "cb2ea5db-af5d-448f-9de7-55c57fc3b763",
   "metadata": {
    "id": "cb2ea5db-af5d-448f-9de7-55c57fc3b763"
   },
   "outputs": [],
   "source": [
    "deformed_data_raw = deformed_data_raw>0\n",
    "deformed_data_raw = deformed_data_raw*2-1\n",
    "np.save(deformed_npy_path, deformed_data_raw)"
   ]
  },
  {
   "cell_type": "code",
   "execution_count": 15,
   "id": "6598758e-0d1d-44eb-8e04-2ca00b26ea26",
   "metadata": {
    "id": "6598758e-0d1d-44eb-8e04-2ca00b26ea26"
   },
   "outputs": [
    {
     "data": {
      "text/plain": [
       "<matplotlib.image.AxesImage at 0xa44f42e90>"
      ]
     },
     "execution_count": 15,
     "metadata": {},
     "output_type": "execute_result"
    },
    {
     "data": {
      "image/png": "[encoded data removed]",
      "text/plain": [
       "<Figure size 640x480 with 1 Axes>"
      ]
     },
     "metadata": {},
     "output_type": "display_data"
    }
   ],
   "source": [
    "plt.imshow(deformed_data_raw[1][1])"
   ]
  },
  {
   "cell_type": "code",
   "execution_count": 16,
   "id": "d4ca84ef-980a-414d-ac4f-979ff74fd63b",
   "metadata": {
    "id": "d4ca84ef-980a-414d-ac4f-979ff74fd63b"
   },
   "outputs": [],
   "source": [
    "nominal_data_raw1 = nominal_data_raw1>0\n",
    "nominal_data_raw1 = nominal_data_raw1*2-1"
   ]
  },
  {
   "cell_type": "code",
   "execution_count": 18,
   "id": "5efc9b7a",
   "metadata": {
    "id": "5efc9b7a"
   },
   "outputs": [],
   "source": [
    "np.save('/Users/calzheng/Desktop/Data/150_200_300_nominal.npy', nominal_data_raw1)"
   ]
  },
  {
   "cell_type": "code",
   "execution_count": null,
   "id": "1710f434",
   "metadata": {
    "id": "1710f434"
   },
   "outputs": [],
   "source": [
    " deformed_data1.shape"
   ]
  },
  {
   "cell_type": "code",
   "execution_count": null,
   "id": "f736ba09",
   "metadata": {
    "id": "f736ba09"
   },
   "outputs": [],
   "source": [
    " deformed_data1[1,1,:,:].shape"
   ]
  },
  {
   "cell_type": "code",
   "execution_count": null,
   "id": "4f444086",
   "metadata": {
    "id": "4f444086"
   },
   "outputs": [],
   "source": [
    "fig, axes = plt.subplots(nrows=10, ncols=10, figsize=(20, 20))\n",
    "\n",
    "# Iterate over the grid and plot each subplot\n",
    "for i in range(10):\n",
    "    for j in range(10):\n",
    "        # Select the subplot\n",
    "        ax = axes[i, j]\n",
    "\n",
    "        # Plot the image\n",
    "        ax.imshow(deformed_data1[0,10*i+j]>0)  # 'cmap' can be adjusted depending on your data\n",
    "\n",
    "        # Optionally, remove the axis labels for clarity\n",
    "        ax.axis('off')\n",
    "\n",
    "# Adjust layout to prevent overlap\n",
    "plt.tight_layout()\n",
    "plt.show()"
   ]
  },
  {
   "cell_type": "code",
   "execution_count": null,
   "id": "53512ed2",
   "metadata": {
    "id": "53512ed2"
   },
   "outputs": [],
   "source": []
  },
  {
   "cell_type": "code",
   "execution_count": null,
   "id": "40db12d1",
   "metadata": {
    "id": "40db12d1"
   },
   "outputs": [],
   "source": [
    "deformed_data1"
   ]
  },
  {
   "cell_type": "code",
   "execution_count": null,
   "id": "3c49fc62",
   "metadata": {
    "id": "3c49fc62"
   },
   "outputs": [],
   "source": [
    "deformed_data.shape"
   ]
  },
  {
   "cell_type": "code",
   "execution_count": null,
   "id": "7752a557",
   "metadata": {
    "id": "7752a557"
   },
   "outputs": [],
   "source": [
    "# deformed_data1 = skfmm.distance(deformed_data,narrow=45,dx=1)\n",
    "# deformed_data1 = deformed_data1/45\n",
    "# deformed_data1 = deformed_data1.reshape(deformed_data1.shape[1], 128, 128, 1)\n",
    "# plt.imshow(deformed_data1[1, :, :,:])"
   ]
  },
  {
   "cell_type": "code",
   "execution_count": null,
   "id": "91d90c78",
   "metadata": {
    "id": "91d90c78"
   },
   "outputs": [],
   "source": [
    "print(np.min(deformed_data1))\n",
    "print(np.max(deformed_data1))\n"
   ]
  },
  {
   "cell_type": "code",
   "execution_count": null,
   "id": "d931a369",
   "metadata": {
    "id": "d931a369",
    "scrolled": true
   },
   "outputs": [],
   "source": [
    "ND = skfmm.distance(nominal_data_raw)\n",
    "\n",
    "if np.max(ND)>abs(np.min(ND)):\n",
    "        limit = np.max(ND)\n",
    "else:\n",
    "        limit = abs(np.min(ND))\n",
    "\n",
    "\n",
    "\n",
    "ND = ND/limit"
   ]
  },
  {
   "cell_type": "code",
   "execution_count": null,
   "id": "b123c0d7-d633-47ed-ad12-5966e5c13e37",
   "metadata": {
    "id": "b123c0d7-d633-47ed-ad12-5966e5c13e37"
   },
   "outputs": [],
   "source": [
    "print(np.max(ND))"
   ]
  },
  {
   "cell_type": "code",
   "execution_count": null,
   "id": "be151120-59eb-440a-969d-c67ad63aec96",
   "metadata": {
    "id": "be151120-59eb-440a-969d-c67ad63aec96"
   },
   "outputs": [],
   "source": [
    "gaussian_image = cv2.GaussianBlur(ND, (21, 21), 10)"
   ]
  },
  {
   "cell_type": "code",
   "execution_count": null,
   "id": "9c0320c8-45fe-4324-bee9-4d51aa8c442d",
   "metadata": {
    "id": "9c0320c8-45fe-4324-bee9-4d51aa8c442d"
   },
   "outputs": [],
   "source": [
    "np.max(ND)"
   ]
  },
  {
   "cell_type": "code",
   "execution_count": null,
   "id": "f97377c2-1511-4326-aa99-a3c6221d9ce0",
   "metadata": {
    "id": "f97377c2-1511-4326-aa99-a3c6221d9ce0",
    "scrolled": true
   },
   "outputs": [],
   "source": [
    "gaussian_image10"
   ]
  },
  {
   "cell_type": "code",
   "execution_count": null,
   "id": "23a6afc0-4117-4b57-a9d3-c7803bcd6d06",
   "metadata": {
    "id": "23a6afc0-4117-4b57-a9d3-c7803bcd6d06"
   },
   "outputs": [],
   "source": [
    "plt.imshow(gaussian_image[0, :, :])"
   ]
  },
  {
   "cell_type": "code",
   "execution_count": null,
   "id": "88b1308a-65c7-4da6-8f27-06821fd0c2bc",
   "metadata": {
    "id": "88b1308a-65c7-4da6-8f27-06821fd0c2bc"
   },
   "outputs": [],
   "source": [
    "plt.imshow(ND[0, :, :])"
   ]
  },
  {
   "cell_type": "code",
   "execution_count": null,
   "id": "82360136-897d-4da8-926c-8a5e2c33426f",
   "metadata": {
    "id": "82360136-897d-4da8-926c-8a5e2c33426f"
   },
   "outputs": [],
   "source": []
  },
  {
   "cell_type": "code",
   "execution_count": null,
   "id": "fc411af8-d023-4b94-b2d2-90811eec48b9",
   "metadata": {
    "id": "fc411af8-d023-4b94-b2d2-90811eec48b9"
   },
   "outputs": [],
   "source": []
  },
  {
   "cell_type": "code",
   "execution_count": null,
   "id": "ec1a6ba6-00b7-4f7c-b9e7-a8c36b0a69c2",
   "metadata": {
    "id": "ec1a6ba6-00b7-4f7c-b9e7-a8c36b0a69c2"
   },
   "outputs": [],
   "source": []
  },
  {
   "cell_type": "code",
   "execution_count": null,
   "id": "e3632095-120f-4904-9463-fda6fa25c3e6",
   "metadata": {
    "id": "e3632095-120f-4904-9463-fda6fa25c3e6"
   },
   "outputs": [],
   "source": []
  }
 ],
 "metadata": {
  "colab": {
   "provenance": []
  },
  "kernelspec": {
   "display_name": "Python 3 (ipykernel)",
   "language": "python",
   "name": "python3"
  },
  "language_info": {
   "codemirror_mode": {
    "name": "ipython",
    "version": 3
   },
   "file_extension": ".py",
   "mimetype": "text/x-python",
   "name": "python",
   "nbconvert_exporter": "python",
   "pygments_lexer": "ipython3",
   "version": "3.11.7"
  }
 },
 "nbformat": 4,
 "nbformat_minor": 5
}
